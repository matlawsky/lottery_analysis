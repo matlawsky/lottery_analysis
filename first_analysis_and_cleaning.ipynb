{
 "cells": [
  {
   "cell_type": "code",
   "execution_count": 1,
   "id": "ba269def",
   "metadata": {},
   "outputs": [],
   "source": [
    "import pandas as pd"
   ]
  },
  {
   "cell_type": "code",
   "execution_count": 2,
   "id": "8dc85906",
   "metadata": {},
   "outputs": [],
   "source": [
    "lottery_data = pd.read_csv(\"unclear_data.csv\", encoding = \"unicode_escape\")"
   ]
  },
  {
   "cell_type": "code",
   "execution_count": 3,
   "id": "f85dfda3",
   "metadata": {},
   "outputs": [
    {
     "data": {
      "text/html": [
       "<div>\n",
       "<style scoped>\n",
       "    .dataframe tbody tr th:only-of-type {\n",
       "        vertical-align: middle;\n",
       "    }\n",
       "\n",
       "    .dataframe tbody tr th {\n",
       "        vertical-align: top;\n",
       "    }\n",
       "\n",
       "    .dataframe thead th {\n",
       "        text-align: right;\n",
       "    }\n",
       "</style>\n",
       "<table border=\"1\" class=\"dataframe\">\n",
       "  <thead>\n",
       "    <tr style=\"text-align: right;\">\n",
       "      <th></th>\n",
       "      <th>day_of_the_week</th>\n",
       "      <th>day</th>\n",
       "      <th>month</th>\n",
       "      <th>year</th>\n",
       "      <th>draw_id_number</th>\n",
       "      <th>nr1</th>\n",
       "      <th>nr2</th>\n",
       "      <th>nr3</th>\n",
       "      <th>nr4</th>\n",
       "      <th>nr5</th>\n",
       "      <th>nr6</th>\n",
       "    </tr>\n",
       "  </thead>\n",
       "  <tbody>\n",
       "    <tr>\n",
       "      <th>0</th>\n",
       "      <td>Niedziela</td>\n",
       "      <td>27</td>\n",
       "      <td>1</td>\n",
       "      <td>1957</td>\n",
       "      <td>1</td>\n",
       "      <td>8</td>\n",
       "      <td>12</td>\n",
       "      <td>31</td>\n",
       "      <td>39</td>\n",
       "      <td>43</td>\n",
       "      <td>45</td>\n",
       "    </tr>\n",
       "    <tr>\n",
       "      <th>1</th>\n",
       "      <td>Niedziela</td>\n",
       "      <td>3</td>\n",
       "      <td>2</td>\n",
       "      <td>1957</td>\n",
       "      <td>2</td>\n",
       "      <td>5</td>\n",
       "      <td>10</td>\n",
       "      <td>11</td>\n",
       "      <td>22</td>\n",
       "      <td>25</td>\n",
       "      <td>27</td>\n",
       "    </tr>\n",
       "    <tr>\n",
       "      <th>2</th>\n",
       "      <td>Niedziela</td>\n",
       "      <td>10</td>\n",
       "      <td>2</td>\n",
       "      <td>1957</td>\n",
       "      <td>3</td>\n",
       "      <td>18</td>\n",
       "      <td>19</td>\n",
       "      <td>20</td>\n",
       "      <td>26</td>\n",
       "      <td>45</td>\n",
       "      <td>49</td>\n",
       "    </tr>\n",
       "    <tr>\n",
       "      <th>3</th>\n",
       "      <td>Niedziela</td>\n",
       "      <td>17</td>\n",
       "      <td>2</td>\n",
       "      <td>1957</td>\n",
       "      <td>4</td>\n",
       "      <td>2</td>\n",
       "      <td>11</td>\n",
       "      <td>14</td>\n",
       "      <td>37</td>\n",
       "      <td>40</td>\n",
       "      <td>45</td>\n",
       "    </tr>\n",
       "    <tr>\n",
       "      <th>4</th>\n",
       "      <td>Niedziela</td>\n",
       "      <td>24</td>\n",
       "      <td>2</td>\n",
       "      <td>1957</td>\n",
       "      <td>5</td>\n",
       "      <td>8</td>\n",
       "      <td>10</td>\n",
       "      <td>15</td>\n",
       "      <td>35</td>\n",
       "      <td>39</td>\n",
       "      <td>49</td>\n",
       "    </tr>\n",
       "    <tr>\n",
       "      <th>...</th>\n",
       "      <td>...</td>\n",
       "      <td>...</td>\n",
       "      <td>...</td>\n",
       "      <td>...</td>\n",
       "      <td>...</td>\n",
       "      <td>...</td>\n",
       "      <td>...</td>\n",
       "      <td>...</td>\n",
       "      <td>...</td>\n",
       "      <td>...</td>\n",
       "      <td>...</td>\n",
       "    </tr>\n",
       "    <tr>\n",
       "      <th>6851</th>\n",
       "      <td>Sobota</td>\n",
       "      <td>4</td>\n",
       "      <td>3</td>\n",
       "      <td>2023</td>\n",
       "      <td>6852</td>\n",
       "      <td>10</td>\n",
       "      <td>11</td>\n",
       "      <td>21</td>\n",
       "      <td>32</td>\n",
       "      <td>34</td>\n",
       "      <td>48</td>\n",
       "    </tr>\n",
       "    <tr>\n",
       "      <th>6852</th>\n",
       "      <td>Wtorek</td>\n",
       "      <td>7</td>\n",
       "      <td>3</td>\n",
       "      <td>2023</td>\n",
       "      <td>6853</td>\n",
       "      <td>18</td>\n",
       "      <td>20</td>\n",
       "      <td>36</td>\n",
       "      <td>37</td>\n",
       "      <td>44</td>\n",
       "      <td>46</td>\n",
       "    </tr>\n",
       "    <tr>\n",
       "      <th>6853</th>\n",
       "      <td>Czwartek</td>\n",
       "      <td>9</td>\n",
       "      <td>3</td>\n",
       "      <td>2023</td>\n",
       "      <td>6854</td>\n",
       "      <td>5</td>\n",
       "      <td>27</td>\n",
       "      <td>30</td>\n",
       "      <td>33</td>\n",
       "      <td>35</td>\n",
       "      <td>39</td>\n",
       "    </tr>\n",
       "    <tr>\n",
       "      <th>6854</th>\n",
       "      <td>Sobota</td>\n",
       "      <td>11</td>\n",
       "      <td>3</td>\n",
       "      <td>2023</td>\n",
       "      <td>6855</td>\n",
       "      <td>1</td>\n",
       "      <td>16</td>\n",
       "      <td>20</td>\n",
       "      <td>21</td>\n",
       "      <td>40</td>\n",
       "      <td>44</td>\n",
       "    </tr>\n",
       "    <tr>\n",
       "      <th>6855</th>\n",
       "      <td>Wtorek</td>\n",
       "      <td>14</td>\n",
       "      <td>3</td>\n",
       "      <td>2023</td>\n",
       "      <td>6856</td>\n",
       "      <td>8</td>\n",
       "      <td>12</td>\n",
       "      <td>15</td>\n",
       "      <td>21</td>\n",
       "      <td>36</td>\n",
       "      <td>42</td>\n",
       "    </tr>\n",
       "  </tbody>\n",
       "</table>\n",
       "<p>6856 rows × 11 columns</p>\n",
       "</div>"
      ],
      "text/plain": [
       "     day_of_the_week  day  month  year  draw_id_number  nr1  nr2  nr3  nr4  \\\n",
       "0          Niedziela   27      1  1957               1    8   12   31   39   \n",
       "1          Niedziela    3      2  1957               2    5   10   11   22   \n",
       "2          Niedziela   10      2  1957               3   18   19   20   26   \n",
       "3          Niedziela   17      2  1957               4    2   11   14   37   \n",
       "4          Niedziela   24      2  1957               5    8   10   15   35   \n",
       "...              ...  ...    ...   ...             ...  ...  ...  ...  ...   \n",
       "6851          Sobota    4      3  2023            6852   10   11   21   32   \n",
       "6852          Wtorek    7      3  2023            6853   18   20   36   37   \n",
       "6853        Czwartek    9      3  2023            6854    5   27   30   33   \n",
       "6854          Sobota   11      3  2023            6855    1   16   20   21   \n",
       "6855          Wtorek   14      3  2023            6856    8   12   15   21   \n",
       "\n",
       "      nr5  nr6  \n",
       "0      43   45  \n",
       "1      25   27  \n",
       "2      45   49  \n",
       "3      40   45  \n",
       "4      39   49  \n",
       "...   ...  ...  \n",
       "6851   34   48  \n",
       "6852   44   46  \n",
       "6853   35   39  \n",
       "6854   40   44  \n",
       "6855   36   42  \n",
       "\n",
       "[6856 rows x 11 columns]"
      ]
     },
     "execution_count": 3,
     "metadata": {},
     "output_type": "execute_result"
    }
   ],
   "source": [
    "lottery_data\n"
   ]
  },
  {
   "cell_type": "code",
   "execution_count": 4,
   "id": "d1d5b4cc",
   "metadata": {},
   "outputs": [
    {
     "data": {
      "text/plain": [
       "array(['Niedziela', 'Sobota', '\\x8croda', 'Wtorek', 'Czwartek'],\n",
       "      dtype=object)"
      ]
     },
     "execution_count": 4,
     "metadata": {},
     "output_type": "execute_result"
    }
   ],
   "source": [
    "lottery_data['day_of_the_week'].unique()"
   ]
  },
  {
   "cell_type": "markdown",
   "id": "a48b149a",
   "metadata": {},
   "source": [
    "Name of the day should be changed to Środa from '\\x8croda'. "
   ]
  },
  {
   "cell_type": "code",
   "execution_count": 5,
   "id": "fb878ec5",
   "metadata": {},
   "outputs": [],
   "source": [
    "lottery_data.rename(columns = {'\\x8croda':'Środa'}, inplace = True)"
   ]
  },
  {
   "cell_type": "code",
   "execution_count": 6,
   "id": "39f216e9",
   "metadata": {},
   "outputs": [
    {
     "data": {
      "text/plain": [
       "array(['Niedziela', 'Sobota', '\\x8croda', 'Wtorek', 'Czwartek'],\n",
       "      dtype=object)"
      ]
     },
     "execution_count": 6,
     "metadata": {},
     "output_type": "execute_result"
    }
   ],
   "source": [
    "lottery_data['day_of_the_week'].unique()"
   ]
  },
  {
   "cell_type": "markdown",
   "id": "42633a20",
   "metadata": {},
   "source": [
    "It didn't work because Środa is not a column :) , it's series cathegorical value."
   ]
  },
  {
   "cell_type": "code",
   "execution_count": 7,
   "id": "9e240659",
   "metadata": {},
   "outputs": [],
   "source": [
    "lottery_data['day_of_the_week'].replace(to_replace=lottery_data['day_of_the_week'].unique()[2], value='Środa', inplace=True)"
   ]
  },
  {
   "cell_type": "code",
   "execution_count": 8,
   "id": "3b66b7d2",
   "metadata": {},
   "outputs": [
    {
     "data": {
      "text/plain": [
       "array(['Niedziela', 'Sobota', 'Środa', 'Wtorek', 'Czwartek'], dtype=object)"
      ]
     },
     "execution_count": 8,
     "metadata": {},
     "output_type": "execute_result"
    }
   ],
   "source": [
    "lottery_data['day_of_the_week'].unique()"
   ]
  },
  {
   "cell_type": "markdown",
   "id": "fbff92dd",
   "metadata": {},
   "source": [
    "Now we can observe that the name was replaced."
   ]
  },
  {
   "cell_type": "code",
   "execution_count": 9,
   "id": "a81b2aa5",
   "metadata": {},
   "outputs": [
    {
     "name": "stdout",
     "output_type": "stream",
     "text": [
      "(6856, 11)\n"
     ]
    }
   ],
   "source": [
    "print(lottery_data.shape)"
   ]
  },
  {
   "cell_type": "code",
   "execution_count": 10,
   "id": "c1f4ba90",
   "metadata": {},
   "outputs": [
    {
     "name": "stdout",
     "output_type": "stream",
     "text": [
      "Index(['day_of_the_week', 'day', 'month', 'year', 'draw_id_number', 'nr1',\n",
      "       'nr2', 'nr3', 'nr4', 'nr5', 'nr6'],\n",
      "      dtype='object')\n"
     ]
    }
   ],
   "source": [
    "print(lottery_data.columns)"
   ]
  },
  {
   "cell_type": "code",
   "execution_count": 11,
   "id": "0f340d9d",
   "metadata": {},
   "outputs": [
    {
     "name": "stdout",
     "output_type": "stream",
     "text": [
      "day_of_the_week    object\n",
      "day                 int64\n",
      "month               int64\n",
      "year                int64\n",
      "draw_id_number      int64\n",
      "nr1                 int64\n",
      "nr2                 int64\n",
      "nr3                 int64\n",
      "nr4                 int64\n",
      "nr5                 int64\n",
      "nr6                 int64\n",
      "dtype: object\n"
     ]
    }
   ],
   "source": [
    "print(lottery_data.dtypes)"
   ]
  },
  {
   "cell_type": "code",
   "execution_count": 12,
   "id": "9aad7404",
   "metadata": {},
   "outputs": [
    {
     "name": "stdout",
     "output_type": "stream",
     "text": [
      "<class 'pandas.core.frame.DataFrame'>\n",
      "RangeIndex: 6856 entries, 0 to 6855\n",
      "Data columns (total 11 columns):\n",
      " #   Column           Non-Null Count  Dtype \n",
      "---  ------           --------------  ----- \n",
      " 0   day_of_the_week  6856 non-null   object\n",
      " 1   day              6856 non-null   int64 \n",
      " 2   month            6856 non-null   int64 \n",
      " 3   year             6856 non-null   int64 \n",
      " 4   draw_id_number   6856 non-null   int64 \n",
      " 5   nr1              6856 non-null   int64 \n",
      " 6   nr2              6856 non-null   int64 \n",
      " 7   nr3              6856 non-null   int64 \n",
      " 8   nr4              6856 non-null   int64 \n",
      " 9   nr5              6856 non-null   int64 \n",
      " 10  nr6              6856 non-null   int64 \n",
      "dtypes: int64(10), object(1)\n",
      "memory usage: 589.3+ KB\n",
      "None\n"
     ]
    }
   ],
   "source": [
    "print(lottery_data.info())"
   ]
  },
  {
   "cell_type": "code",
   "execution_count": 13,
   "id": "19d4eb66",
   "metadata": {},
   "outputs": [
    {
     "name": "stdout",
     "output_type": "stream",
     "text": [
      "  day_of_the_week  day  month  year  draw_id_number  nr1  nr2  nr3  nr4  nr5  \\\n",
      "0       Niedziela   27      1  1957               1    8   12   31   39   43   \n",
      "1       Niedziela    3      2  1957               2    5   10   11   22   25   \n",
      "2       Niedziela   10      2  1957               3   18   19   20   26   45   \n",
      "3       Niedziela   17      2  1957               4    2   11   14   37   40   \n",
      "4       Niedziela   24      2  1957               5    8   10   15   35   39   \n",
      "\n",
      "   nr6  \n",
      "0   45  \n",
      "1   27  \n",
      "2   49  \n",
      "3   45  \n",
      "4   49  \n"
     ]
    }
   ],
   "source": [
    "print(lottery_data.head())"
   ]
  },
  {
   "cell_type": "code",
   "execution_count": 14,
   "id": "420e4160",
   "metadata": {},
   "outputs": [
    {
     "name": "stdout",
     "output_type": "stream",
     "text": [
      "     day_of_the_week  day  month  year  draw_id_number  nr1  nr2  nr3  nr4  \\\n",
      "6851          Sobota    4      3  2023            6852   10   11   21   32   \n",
      "6852          Wtorek    7      3  2023            6853   18   20   36   37   \n",
      "6853        Czwartek    9      3  2023            6854    5   27   30   33   \n",
      "6854          Sobota   11      3  2023            6855    1   16   20   21   \n",
      "6855          Wtorek   14      3  2023            6856    8   12   15   21   \n",
      "\n",
      "      nr5  nr6  \n",
      "6851   34   48  \n",
      "6852   44   46  \n",
      "6853   35   39  \n",
      "6854   40   44  \n",
      "6855   36   42  \n"
     ]
    }
   ],
   "source": [
    "print(lottery_data.tail())"
   ]
  },
  {
   "cell_type": "code",
   "execution_count": 15,
   "id": "7ecbead0",
   "metadata": {},
   "outputs": [],
   "source": [
    "useful_subset = lottery_data[['draw_id_number', 'nr1', 'nr2', 'nr3', 'nr4', 'nr5', 'nr6']]"
   ]
  },
  {
   "cell_type": "code",
   "execution_count": 16,
   "id": "3c462e9d",
   "metadata": {},
   "outputs": [
    {
     "data": {
      "text/plain": [
       "<pandas.core.indexing._iLocIndexer at 0x22583595ee0>"
      ]
     },
     "execution_count": 16,
     "metadata": {},
     "output_type": "execute_result"
    }
   ],
   "source": [
    "useful_subset.iloc()"
   ]
  },
  {
   "cell_type": "code",
   "execution_count": 17,
   "id": "9bcedbc2",
   "metadata": {},
   "outputs": [
    {
     "data": {
      "text/html": [
       "<div>\n",
       "<style scoped>\n",
       "    .dataframe tbody tr th:only-of-type {\n",
       "        vertical-align: middle;\n",
       "    }\n",
       "\n",
       "    .dataframe tbody tr th {\n",
       "        vertical-align: top;\n",
       "    }\n",
       "\n",
       "    .dataframe thead th {\n",
       "        text-align: right;\n",
       "    }\n",
       "</style>\n",
       "<table border=\"1\" class=\"dataframe\">\n",
       "  <thead>\n",
       "    <tr style=\"text-align: right;\">\n",
       "      <th></th>\n",
       "      <th>day_of_the_week</th>\n",
       "      <th>day</th>\n",
       "      <th>month</th>\n",
       "      <th>year</th>\n",
       "      <th>draw_id_number</th>\n",
       "      <th>nr1</th>\n",
       "      <th>nr2</th>\n",
       "      <th>nr3</th>\n",
       "      <th>nr4</th>\n",
       "      <th>nr5</th>\n",
       "      <th>nr6</th>\n",
       "    </tr>\n",
       "  </thead>\n",
       "  <tbody>\n",
       "  </tbody>\n",
       "</table>\n",
       "</div>"
      ],
      "text/plain": [
       "Empty DataFrame\n",
       "Columns: [day_of_the_week, day, month, year, draw_id_number, nr1, nr2, nr3, nr4, nr5, nr6]\n",
       "Index: []"
      ]
     },
     "execution_count": 17,
     "metadata": {},
     "output_type": "execute_result"
    }
   ],
   "source": [
    "rows_with_missing_values = lottery_data.isnull().any(axis=1)\n",
    "lottery_data[rows_with_missing_values]"
   ]
  },
  {
   "cell_type": "markdown",
   "id": "7e97d7b4",
   "metadata": {},
   "source": [
    "it is clear now that there is no missing data"
   ]
  },
  {
   "cell_type": "code",
   "execution_count": 18,
   "id": "e17f29ea",
   "metadata": {},
   "outputs": [],
   "source": [
    "lottery_data.to_csv('cleaned_data.csv', index=False)"
   ]
  },
  {
   "cell_type": "markdown",
   "id": "b3b94c3c",
   "metadata": {},
   "source": [
    "analysis and visualization is in another file"
   ]
  },
  {
   "cell_type": "code",
   "execution_count": null,
   "id": "5476882e",
   "metadata": {},
   "outputs": [],
   "source": []
  }
 ],
 "metadata": {
  "kernelspec": {
   "display_name": "venv",
   "language": "python",
   "name": "venv"
  },
  "language_info": {
   "codemirror_mode": {
    "name": "ipython",
    "version": 3
   },
   "file_extension": ".py",
   "mimetype": "text/x-python",
   "name": "python",
   "nbconvert_exporter": "python",
   "pygments_lexer": "ipython3",
   "version": "3.10.2"
  }
 },
 "nbformat": 4,
 "nbformat_minor": 5
}
